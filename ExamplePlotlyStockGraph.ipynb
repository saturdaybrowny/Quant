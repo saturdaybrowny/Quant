{
 "cells": [
  {
   "cell_type": "code",
   "execution_count": null,
   "metadata": {},
   "outputs": [],
   "source": [
    "import psycopg2\n",
    "import pandas as pd\n",
    "import plotly.offline as offline\n",
    "import plotly.graph_objs as go\n",
    "\n",
    "# Connect to an existing database\n",
    "host = 'localhost'\n",
    "dbname = 'sbt'\n",
    "user = 'sbt'\n",
    "pwd = 'sbt'\n",
    "conn = psycopg2.connect('host={0} dbname={1} user={2} password={3}'.format(host, dbname, user, pwd))\n",
    "\n",
    "df = pd.read_sql(\"SELECT name, date, open, high, low, close FROM daily_stock_price WHERE name='우리은행'\", conn)\n",
    "\n",
    "offline.init_notebook_mode(connected=True)\n",
    "\n",
    "trace = go.Candlestick(x=df.date_time, open=df.open_price, high=df.high_price, low=df.low_price, close=df.close_price)\n",
    "\n",
    "data = [trace]\n",
    "layout = go.Layout(title='셀트리온 캔들차트')\n",
    "fig = go.Figure(data=data, layout=layout)\n",
    "offline.iplot(fig, filename=\"candlestick\")\n"
   ]
  }
 ],
 "metadata": {
  "kernelspec": {
   "display_name": "Python 3",
   "language": "python",
   "name": "python3"
  },
  "language_info": {
   "codemirror_mode": {
    "name": "ipython",
    "version": 3
   },
   "file_extension": ".py",
   "mimetype": "text/x-python",
   "name": "python",
   "nbconvert_exporter": "python",
   "pygments_lexer": "ipython3",
   "version": "3.5.4"
  }
 },
 "nbformat": 4,
 "nbformat_minor": 2
}
